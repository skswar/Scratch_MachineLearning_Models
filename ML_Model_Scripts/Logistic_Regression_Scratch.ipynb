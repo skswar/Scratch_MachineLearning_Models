{
 "cells": [
  {
   "cell_type": "markdown",
   "id": "02e9121b",
   "metadata": {},
   "source": [
    "## Implementation of Two-Class Logistic regression From Scratch and Comparing Performance with Scikit-Learn SGD-Regressor Package on Breast Cancer Wisconsin Data Set"
   ]
  },
  {
   "cell_type": "code",
   "execution_count": 1,
   "id": "c29c40a5",
   "metadata": {},
   "outputs": [],
   "source": [
    "import numpy as np\n",
    "import pandas as pd\n",
    "import matplotlib.pyplot as plt"
   ]
  },
  {
   "cell_type": "markdown",
   "id": "08a1436a",
   "metadata": {},
   "source": [
    "#### <u>Step 1</u>:\n",
    "\n",
    "    1. Implement the sigmoid function from scratch and call it sigmoid_f\n",
    "    2. Implement the hypothesis function from scratch and call it classifier_f\n",
    "    3. Implement the entropy function as your cost function and call it binary_loss_f\n",
    "    4. Implement gradient descent for logistic regression and call it gradient_f"
   ]
  },
  {
   "cell_type": "code",
   "execution_count": 2,
   "id": "67c2497e",
   "metadata": {},
   "outputs": [],
   "source": [
    "class Logistic_Regression_manual():\n",
    "    \n",
    "    def __init__(self, learning_rate, number_of_iter):\n",
    "        self.lr = learning_rate\n",
    "        self.niter = number_of_iter\n",
    "        \n",
    "    def sigmoid_f(self):\n",
    "        sigma = 1/(1+np.exp(-(self.x@self.w+self.b)))\n",
    "        return sigma\n",
    "        \n",
    "    def binary_loss_f(self):\n",
    "        h_theta = self.sigmoid_f()\n",
    "        loss = (-1/self.m)*np.sum(((self.y*np.log(h_theta)) + (1-self.y)*(np.log(1-h_theta))))\n",
    "        return loss\n",
    "    \n",
    "    def gradient_f(self,i):\n",
    "        yhat = self.sigmoid_f()\n",
    "        \n",
    "        dldw = (1/self.m)*((self.x.T)@(yhat-self.y))\n",
    "        dldb = (1/self.m)*np.sum(yhat-self.y)\n",
    "        \n",
    "        self.w = self.w - dldw*self.lr\n",
    "        self.b = self.b - dldb*self.lr\n",
    "        \n",
    "        binaryloss = self.binary_loss_f()\n",
    "        #print(f'Round {i} & Loss is {binaryloss}')\n",
    "        return binaryloss      \n",
    "        \n",
    "    def model_fit(self, x, y):\n",
    "        self.x = x\n",
    "        self.y = y\n",
    "        \n",
    "        self.m, self.n = x.shape\n",
    "        \n",
    "        self.w = np.zeros(self.n)\n",
    "        self.w = self.w.reshape(-1,1)\n",
    "        self.b = 0\n",
    "        self.loss_list = list() \n",
    "        \n",
    "        for i in range(self.niter):\n",
    "            l = self.gradient_f(i)\n",
    "            self.loss_list.append(l)\n",
    "        \n",
    "        self.coeff_ = {'weights':self.w, 'bias':self.b}\n",
    "        return self\n",
    "            \n",
    "    def classifier_f(self,xtest):\n",
    "        y_predicted = 1/(1+np.exp(-((xtest@self.w) + self.b)))\n",
    "        y_predicted = np.where(y_predicted>=0.5,1,0)\n",
    "        return y_predicted"
   ]
  },
  {
   "cell_type": "code",
   "execution_count": 3,
   "id": "b58acc1a",
   "metadata": {},
   "outputs": [],
   "source": [
    "xt = np.random.randint(10, size=(2, 3))\n",
    "yt = (np.random.randint(0,2,2)).transpose()\n",
    "yt = yt.reshape(-1,1)"
   ]
  },
  {
   "cell_type": "code",
   "execution_count": 4,
   "id": "7fbfcd76",
   "metadata": {},
   "outputs": [
    {
     "data": {
      "text/plain": [
       "<__main__.Logistic_Regression_manual at 0x13b9cedc0>"
      ]
     },
     "execution_count": 4,
     "metadata": {},
     "output_type": "execute_result"
    }
   ],
   "source": [
    "log_model = Logistic_Regression_manual(learning_rate=0.01,number_of_iter=500)\n",
    "log_model.model_fit(xt,yt)"
   ]
  },
  {
   "cell_type": "code",
   "execution_count": 5,
   "id": "97e68b5d",
   "metadata": {},
   "outputs": [
    {
     "data": {
      "image/png": "[encoded data removed]",
      "text/plain": [
       "<Figure size 640x480 with 1 Axes>"
      ]
     },
     "metadata": {},
     "output_type": "display_data"
    }
   ],
   "source": [
    "plt.plot(log_model.loss_list)\n",
    "plt.xlabel(\"iterations\")\n",
    "plt.ylabel(\"loss\")\n",
    "plt.title('Perofrmance of Logistic Regression Function')\n",
    "plt.show()"
   ]
  },
  {
   "cell_type": "markdown",
   "id": "5f8f49bc",
   "metadata": {},
   "source": [
    "#### <u>Step2</u>: Implement the above algorithm with Breast Cancer Dataset and evaluate performance"
   ]
  },
  {
   "cell_type": "code",
   "execution_count": 6,
   "id": "2d9313b7",
   "metadata": {},
   "outputs": [
    {
     "data": {
      "text/html": [
       "<div>\n",
       "<style scoped>\n",
       "    .dataframe tbody tr th:only-of-type {\n",
       "        vertical-align: middle;\n",
       "    }\n",
       "\n",
       "    .dataframe tbody tr th {\n",
       "        vertical-align: top;\n",
       "    }\n",
       "\n",
       "    .dataframe thead th {\n",
       "        text-align: right;\n",
       "    }\n",
       "</style>\n",
       "<table border=\"1\" class=\"dataframe\">\n",
       "  <thead>\n",
       "    <tr style=\"text-align: right;\">\n",
       "      <th></th>\n",
       "      <th>mean radius</th>\n",
       "      <th>mean texture</th>\n",
       "      <th>mean perimeter</th>\n",
       "      <th>mean area</th>\n",
       "      <th>mean smoothness</th>\n",
       "      <th>mean compactness</th>\n",
       "      <th>mean concavity</th>\n",
       "      <th>mean concave points</th>\n",
       "      <th>mean symmetry</th>\n",
       "      <th>mean fractal dimension</th>\n",
       "      <th>...</th>\n",
       "      <th>worst radius</th>\n",
       "      <th>worst texture</th>\n",
       "      <th>worst perimeter</th>\n",
       "      <th>worst area</th>\n",
       "      <th>worst smoothness</th>\n",
       "      <th>worst compactness</th>\n",
       "      <th>worst concavity</th>\n",
       "      <th>worst concave points</th>\n",
       "      <th>worst symmetry</th>\n",
       "      <th>worst fractal dimension</th>\n",
       "    </tr>\n",
       "  </thead>\n",
       "  <tbody>\n",
       "    <tr>\n",
       "      <th>0</th>\n",
       "      <td>17.99</td>\n",
       "      <td>10.38</td>\n",
       "      <td>122.80</td>\n",
       "      <td>1001.0</td>\n",
       "      <td>0.11840</td>\n",
       "      <td>0.27760</td>\n",
       "      <td>0.3001</td>\n",
       "      <td>0.14710</td>\n",
       "      <td>0.2419</td>\n",
       "      <td>0.07871</td>\n",
       "      <td>...</td>\n",
       "      <td>25.38</td>\n",
       "      <td>17.33</td>\n",
       "      <td>184.60</td>\n",
       "      <td>2019.0</td>\n",
       "      <td>0.1622</td>\n",
       "      <td>0.6656</td>\n",
       "      <td>0.7119</td>\n",
       "      <td>0.2654</td>\n",
       "      <td>0.4601</td>\n",
       "      <td>0.11890</td>\n",
       "    </tr>\n",
       "    <tr>\n",
       "      <th>1</th>\n",
       "      <td>20.57</td>\n",
       "      <td>17.77</td>\n",
       "      <td>132.90</td>\n",
       "      <td>1326.0</td>\n",
       "      <td>0.08474</td>\n",
       "      <td>0.07864</td>\n",
       "      <td>0.0869</td>\n",
       "      <td>0.07017</td>\n",
       "      <td>0.1812</td>\n",
       "      <td>0.05667</td>\n",
       "      <td>...</td>\n",
       "      <td>24.99</td>\n",
       "      <td>23.41</td>\n",
       "      <td>158.80</td>\n",
       "      <td>1956.0</td>\n",
       "      <td>0.1238</td>\n",
       "      <td>0.1866</td>\n",
       "      <td>0.2416</td>\n",
       "      <td>0.1860</td>\n",
       "      <td>0.2750</td>\n",
       "      <td>0.08902</td>\n",
       "    </tr>\n",
       "    <tr>\n",
       "      <th>2</th>\n",
       "      <td>19.69</td>\n",
       "      <td>21.25</td>\n",
       "      <td>130.00</td>\n",
       "      <td>1203.0</td>\n",
       "      <td>0.10960</td>\n",
       "      <td>0.15990</td>\n",
       "      <td>0.1974</td>\n",
       "      <td>0.12790</td>\n",
       "      <td>0.2069</td>\n",
       "      <td>0.05999</td>\n",
       "      <td>...</td>\n",
       "      <td>23.57</td>\n",
       "      <td>25.53</td>\n",
       "      <td>152.50</td>\n",
       "      <td>1709.0</td>\n",
       "      <td>0.1444</td>\n",
       "      <td>0.4245</td>\n",
       "      <td>0.4504</td>\n",
       "      <td>0.2430</td>\n",
       "      <td>0.3613</td>\n",
       "      <td>0.08758</td>\n",
       "    </tr>\n",
       "    <tr>\n",
       "      <th>3</th>\n",
       "      <td>11.42</td>\n",
       "      <td>20.38</td>\n",
       "      <td>77.58</td>\n",
       "      <td>386.1</td>\n",
       "      <td>0.14250</td>\n",
       "      <td>0.28390</td>\n",
       "      <td>0.2414</td>\n",
       "      <td>0.10520</td>\n",
       "      <td>0.2597</td>\n",
       "      <td>0.09744</td>\n",
       "      <td>...</td>\n",
       "      <td>14.91</td>\n",
       "      <td>26.50</td>\n",
       "      <td>98.87</td>\n",
       "      <td>567.7</td>\n",
       "      <td>0.2098</td>\n",
       "      <td>0.8663</td>\n",
       "      <td>0.6869</td>\n",
       "      <td>0.2575</td>\n",
       "      <td>0.6638</td>\n",
       "      <td>0.17300</td>\n",
       "    </tr>\n",
       "    <tr>\n",
       "      <th>4</th>\n",
       "      <td>20.29</td>\n",
       "      <td>14.34</td>\n",
       "      <td>135.10</td>\n",
       "      <td>1297.0</td>\n",
       "      <td>0.10030</td>\n",
       "      <td>0.13280</td>\n",
       "      <td>0.1980</td>\n",
       "      <td>0.10430</td>\n",
       "      <td>0.1809</td>\n",
       "      <td>0.05883</td>\n",
       "      <td>...</td>\n",
       "      <td>22.54</td>\n",
       "      <td>16.67</td>\n",
       "      <td>152.20</td>\n",
       "      <td>1575.0</td>\n",
       "      <td>0.1374</td>\n",
       "      <td>0.2050</td>\n",
       "      <td>0.4000</td>\n",
       "      <td>0.1625</td>\n",
       "      <td>0.2364</td>\n",
       "      <td>0.07678</td>\n",
       "    </tr>\n",
       "  </tbody>\n",
       "</table>\n",
       "<p>5 rows × 30 columns</p>\n",
       "</div>"
      ],
      "text/plain": [
       "   mean radius  mean texture  mean perimeter  mean area  mean smoothness  \\\n",
       "0        17.99         10.38          122.80     1001.0          0.11840   \n",
       "1        20.57         17.77          132.90     1326.0          0.08474   \n",
       "2        19.69         21.25          130.00     1203.0          0.10960   \n",
       "3        11.42         20.38           77.58      386.1          0.14250   \n",
       "4        20.29         14.34          135.10     1297.0          0.10030   \n",
       "\n",
       "   mean compactness  mean concavity  mean concave points  mean symmetry  \\\n",
       "0           0.27760          0.3001              0.14710         0.2419   \n",
       "1           0.07864          0.0869              0.07017         0.1812   \n",
       "2           0.15990          0.1974              0.12790         0.2069   \n",
       "3           0.28390          0.2414              0.10520         0.2597   \n",
       "4           0.13280          0.1980              0.10430         0.1809   \n",
       "\n",
       "   mean fractal dimension  ...  worst radius  worst texture  worst perimeter  \\\n",
       "0                 0.07871  ...         25.38          17.33           184.60   \n",
       "1                 0.05667  ...         24.99          23.41           158.80   \n",
       "2                 0.05999  ...         23.57          25.53           152.50   \n",
       "3                 0.09744  ...         14.91          26.50            98.87   \n",
       "4                 0.05883  ...         22.54          16.67           152.20   \n",
       "\n",
       "   worst area  worst smoothness  worst compactness  worst concavity  \\\n",
       "0      2019.0            0.1622             0.6656           0.7119   \n",
       "1      1956.0            0.1238             0.1866           0.2416   \n",
       "2      1709.0            0.1444             0.4245           0.4504   \n",
       "3       567.7            0.2098             0.8663           0.6869   \n",
       "4      1575.0            0.1374             0.2050           0.4000   \n",
       "\n",
       "   worst concave points  worst symmetry  worst fractal dimension  \n",
       "0                0.2654          0.4601                  0.11890  \n",
       "1                0.1860          0.2750                  0.08902  \n",
       "2                0.2430          0.3613                  0.08758  \n",
       "3                0.2575          0.6638                  0.17300  \n",
       "4                0.1625          0.2364                  0.07678  \n",
       "\n",
       "[5 rows x 30 columns]"
      ]
     },
     "execution_count": 6,
     "metadata": {},
     "output_type": "execute_result"
    }
   ],
   "source": [
    "from sklearn.datasets import load_breast_cancer\n",
    "from sklearn.preprocessing import MinMaxScaler\n",
    "\n",
    "data = load_breast_cancer()\n",
    "bc_df = pd.DataFrame(data.data, columns=data.feature_names)\n",
    "bc_df.head()"
   ]
  },
  {
   "cell_type": "code",
   "execution_count": 7,
   "id": "c9839f77",
   "metadata": {},
   "outputs": [],
   "source": [
    "X = bc_df.copy()\n",
    "Y = data.target\n",
    "Y = Y.reshape(-1,1)"
   ]
  },
  {
   "cell_type": "code",
   "execution_count": 8,
   "id": "e1545ccf",
   "metadata": {},
   "outputs": [],
   "source": [
    "minmx = MinMaxScaler()\n",
    "minmx.fit(X)\n",
    "X_scaled = minmx.transform(X)\n",
    "\n",
    "#Note: as the target column in binary therefore we do not need to normalize/scaling on target column."
   ]
  },
  {
   "cell_type": "code",
   "execution_count": 9,
   "id": "7aa3b3c1",
   "metadata": {},
   "outputs": [
    {
     "data": {
      "text/plain": [
       "<__main__.Logistic_Regression_manual at 0x14333c9a0>"
      ]
     },
     "execution_count": 9,
     "metadata": {},
     "output_type": "execute_result"
    }
   ],
   "source": [
    "bc_logr_model = Logistic_Regression_manual(learning_rate=0.1,number_of_iter=10000)\n",
    "bc_logr_model.model_fit(X_scaled,Y)"
   ]
  },
  {
   "cell_type": "code",
   "execution_count": 10,
   "id": "33de57ca",
   "metadata": {},
   "outputs": [
    {
     "data": {
      "image/png": "[encoded data removed]",
      "text/plain": [
       "<Figure size 640x480 with 1 Axes>"
      ]
     },
     "metadata": {},
     "output_type": "display_data"
    }
   ],
   "source": [
    "plt.plot(bc_logr_model.loss_list)\n",
    "plt.xlabel(\"iterations\")\n",
    "plt.ylabel(\"loss\")\n",
    "plt.title(\"Perofrmance of Logistic Regression Function on Breast Cancer Dataset\")\n",
    "plt.show()"
   ]
  },
  {
   "cell_type": "code",
   "execution_count": 11,
   "id": "6f244c35",
   "metadata": {},
   "outputs": [
    {
     "data": {
      "image/png": "[encoded data removed]",
      "text/plain": [
       "<Figure size 640x480 with 2 Axes>"
      ]
     },
     "metadata": {},
     "output_type": "display_data"
    }
   ],
   "source": [
    "from sklearn.metrics import confusion_matrix,ConfusionMatrixDisplay\n",
    "\n",
    "#Predict the Class Labels of the train data set (as we do not have test data separately)\n",
    "yhat = bc_logr_model.classifier_f(X_scaled)\n",
    "\n",
    "cm = confusion_matrix(Y, yhat, labels= [0,1])\n",
    "disp = ConfusionMatrixDisplay(confusion_matrix=cm, display_labels=[0,1])\n",
    "disp.plot()\n",
    "plt.title(\"Confusion Matrix of Breast Cancer Prediction\")\n",
    "plt.show()"
   ]
  },
  {
   "cell_type": "markdown",
   "id": "8bd32578",
   "metadata": {},
   "source": [
    "**As we can see, our algorithm performs pretty well on the breast cancer data set with only 3 False Negatives out of total 357 Negative Cases. We are more emphaisizing on False Negative here as this is a medical dataset and we want more accurary in preicting cases and least false negative cases. More flase negatives can be deadly.**"
   ]
  },
  {
   "cell_type": "code",
   "execution_count": 12,
   "id": "b30160a9",
   "metadata": {},
   "outputs": [
    {
     "data": {
      "text/plain": [
       "[('mean fractal dimension', 2.6421348169417223),\n",
       " ('compactness error', 1.565140965446106),\n",
       " ('fractal dimension error', 1.3181979197158955),\n",
       " ('symmetry error', 0.804749549750426),\n",
       " ('concavity error', 0.7750662418159195),\n",
       " ('texture error', 0.3583056533635527),\n",
       " ('mean smoothness', 0.35565574422986374),\n",
       " ('concave points error', 0.3494860436761493),\n",
       " ('smoothness error', 0.34785060372973575),\n",
       " ('mean symmetry', 0.3136751068346352),\n",
       " ('worst fractal dimension', -0.23000376915005352),\n",
       " ('mean compactness', -0.4572976202291479),\n",
       " ('worst compactness', -1.04591539193059),\n",
       " ('mean radius', -1.249290966693285),\n",
       " ('mean perimeter', -1.3578064536172971),\n",
       " ('worst smoothness', -1.6942162376006797),\n",
       " ('worst symmetry', -1.694906939566677),\n",
       " ('area error', -1.7105978076131485),\n",
       " ('perimeter error', -1.851362319341341),\n",
       " ('mean area', -1.8667185468521408),\n",
       " ('mean texture', -1.9909530749275124),\n",
       " ('worst concavity', -2.0364095112023195),\n",
       " ('radius error', -2.4517184372418757),\n",
       " ('worst perimeter', -2.7465131267103873),\n",
       " ('worst area', -2.7537842316287406),\n",
       " ('mean concavity', -2.97879734225607),\n",
       " ('worst radius', -3.0011152919604984),\n",
       " ('worst texture', -3.1848991112297824),\n",
       " ('worst concave points', -3.919357082423828),\n",
       " ('mean concave points', -4.16371527935368)]"
      ]
     },
     "execution_count": 12,
     "metadata": {},
     "output_type": "execute_result"
    }
   ],
   "source": [
    "#The updated Weights and Bias of the dataset are:\n",
    "updated_weights = bc_logr_model.coeff_\n",
    "\n",
    "param_dict = {}\n",
    "for i in range(len(bc_df.columns)):\n",
    "    param_dict[bc_df.columns[i]] = updated_weights['weights'][i][0]\n",
    "    \n",
    "sorted_param_dict = sorted(param_dict.items(), key=lambda x:x[1], reverse=True)\n",
    "sorted_param_dict"
   ]
  },
  {
   "cell_type": "markdown",
   "id": "a872514d",
   "metadata": {},
   "source": [
    "### Interpretation of the Logistic Regressor Weights\n",
    "\n",
    "The above dictionary shows us the variables associated with the target variables in a positive to neagative fashion.\n",
    "\n",
    "Starting from variables with highest weight associated are \"mean fractal dimension\",\"compactness error\" etc. to least weights \"worst concave points\" and \"mean concave points\".\n",
    "\n",
    "The interpretation of logistic regression variables are slightly different than linear regresion. In logistic regression a one unit increase in a response variale will make the target variable increase by log(p/1-p) times where p is the proability of success and the whole log(p/1-p) means log odds. What is log odds? Lets first know what is odds. Odds is the probability of success/failure i.e. the ration f probability of success and probability of faliure. That is p/1-p. So if we roll a dice then chances of getting a 2 is 1/6. The odds of having a 2 is (1/6)/(5/6) i.e. 1/5 or 20%. Log Odds will be the log of 1/5. \n",
    "<br>\n",
    "Then coming back to interpreting the results. If 'mean fractal dimension' increases by 1 unit then it means that 2.64 increase in target variable or log(p/1-p). So we can say that 1 unit increase in 'mean fractal dimension' will cause (exp(2.64)-1)*100 ~ 1300% chance of having a sucess in cancer (target variable 1).\n",
    "Similarly if coeeficent is negative, that means the log-odd times increase of not having a cancer i.e . a failure with target variable as 0. So, an increase in 1 unit of 'worst perimeter' will cause (exp(-2.74)-1)*100 i.e. around 93.5 percent more chances of not having cancer, a target variable of 0.\n",
    "\n",
    "In summary, positive coefficent indicates \"exp(coefficent) expressed in percent\" times chances in increase of a success. Negative coeffcicient will indicate that many times chances of having a failure."
   ]
  }
 ],
 "metadata": {
  "kernelspec": {
   "display_name": "Python 3 (ipykernel)",
   "language": "python",
   "name": "python3"
  },
  "language_info": {
   "codemirror_mode": {
    "name": "ipython",
    "version": 3
   },
   "file_extension": ".py",
   "mimetype": "text/x-python",
   "name": "python",
   "nbconvert_exporter": "python",
   "pygments_lexer": "ipython3",
   "version": "3.9.16"
  }
 },
 "nbformat": 4,
 "nbformat_minor": 5
}
